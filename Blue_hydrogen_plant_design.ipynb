{
 "cells": [
  {
   "cell_type": "code",
   "execution_count": 1,
   "id": "71897d7f",
   "metadata": {},
   "outputs": [],
   "source": [
    "from saturn import line, unit\n",
    "import numpy as np\n",
    "import periodictable as pt\n",
    "import pandas as pd\n",
    "from openpyxl import load_workbook\n",
    "from copy import deepcopy as cp\n",
    "from datetime import datetime"
   ]
  },
  {
   "cell_type": "code",
   "execution_count": 2,
   "id": "701a7a8d",
   "metadata": {},
   "outputs": [],
   "source": [
    "scale = 107.50409850792677\n",
    "R = 8.314 #kJ/kmolK. "
   ]
  },
  {
   "cell_type": "code",
   "execution_count": 3,
   "id": "12f85e02",
   "metadata": {},
   "outputs": [],
   "source": [
    "#unit: kg/kmol\n",
    "species_list = [\"CO2\",\"CO\",\"O2\",\"H2O\",\"CH4\",\"C2H6\",\"H2S\",\"C2H7NO\",\"H2\"]"
   ]
  },
  {
   "cell_type": "code",
   "execution_count": 4,
   "id": "455875f5",
   "metadata": {},
   "outputs": [],
   "source": [
    "#Each coefficient has three phases: [solid, liquid, gas]. enter the ones that are applicable, set others zero. \n",
    "#unit: as per the textbook (Milo Kores Cp∕R = A + BT + CT2 + DT−2 + ET3\n",
    "cp_coeff = [{'A':[0.0,0.0,5.457],'B':[0.0,0.0,1.045E-3],'C':[0.0,0.0,0.0],'D':[0.0,0.0,-1.157E5], 'E':[0.0,0.0,0.0]}, #CO2\n",
    "            {'A':[0.0,0.0,3.376],'B':[0.0,0.0,0.557E-3],'C':[0.0,0.0,0.0],'D':[0.0,0.0,-0.031E5], 'E':[0.0,0.0,0.0]}, #CO\n",
    "            {'A':[0.0,0.0,3.639],'B':[0.0,0.0,0.506E-3],'C':[0.0,0.0,0.0],'D':[0.0,0.0,-0.227E5], 'E':[0.0,0.0,0.0]}, #O2\n",
    "            {'A':[0.0,75.6/R,3.470],'B':[0.0,0.0,1.45E-3],'C':[0.0,0.0,0.0],'D':[0.0,0.0,0.121E5], 'E':[0.0,0.0,0.0]}, #H2O\n",
    "            {'A':[0.0,0.0,1.702],'B':[0.0,0.0,9.081E-3],'C':[0.0,0.0,-2.164E-6],'D':[0.0,0.0,0.0], 'E':[0.0,0.0,0.0]}, #CH4\n",
    "            {'A':[0.0,0.0,1.131],'B':[0.0,0.0,19.225E-3],'C':[0.0,0.0,-5.561E-6],'D':[0.0,0.0,0.0], 'E':[0.0,0.0,0.0]}, #C2H6\n",
    "            {'A':[0.0,0.0,3.931],'B':[0.0,0.0,1.49E-3],'C':[0.0,0.0,0.0],'D':[0.0,0.0,-0.232E5], 'E':[0.0,0.0,0.0]}, #H2S\n",
    "            {'A':[0.0,0.0,1.702],'B':[0.0,0.0,9.081E-3],'C':[0.0,0.0,-2.164E-6],'D':[0.0,0.0,0.0], 'E':[0.0,0.0,0.0]}, #C2H7NO\n",
    "            {'A':[0.0,0.0,3.249],'B':[0.0,0.0,0.422E-3],'C':[0.0,0.0,0.0],'D':[0.0,0.0,0.083E5], 'E':[0.0,0.0,0.0]} #H2\n",
    "             ]"
   ]
  },
  {
   "cell_type": "code",
   "execution_count": 5,
   "id": "48ffb2e6",
   "metadata": {},
   "outputs": [],
   "source": [
    "#Density has two phases: [solid, liquid]. enter the ones that are applicable, set others zero. Kg/m3\n",
    "density = np.array([[0.0,0.0],\n",
    "                   [0.0,0.0],\n",
    "                   [0.0,0.0],\n",
    "                   [0.0,1000.0],\n",
    "                   [0.0,1025.55],\n",
    "                   [0.0,0.0],\n",
    "                   [0.0,0.0],\n",
    "                   [0.0,0.0],\n",
    "                   [0.0,0.0]]\n",
    "                  )"
   ]
  },
  {
   "cell_type": "code",
   "execution_count": 6,
   "id": "1cd09418",
   "metadata": {},
   "outputs": [],
   "source": [
    "def mass_balance_check(lines):\n",
    "    #l = lines.values()\n",
    "    error = 1E-9\n",
    "    print(\"Overall mass balance: \",abs(line2.mdot + line3.mdot + line5.mdot + line7.mdot + line9.mdot  - \\\n",
    "               (line11.mdot + line13.mdot + line15.mdot + line16.mdot))) # < error\n",
    "    print (\"Pre-reformer mass balance: \",abs(line2.mdot+line3.mdot-line4.mdot))\n",
    "    print (\"ATR mass balance: \",abs(line4.mdot+line5.mdot-line6.mdot))\n",
    "    print (\"HT-WGS mass balance: \",abs(line6.mdot+line7.mdot-line8.mdot))\n",
    "    print (\"LT-WGS mass balance: \",abs(line8.mdot+line9.mdot-line10.mdot))\n",
    "    print (\"Flash drum mass balance: \",abs(line10.mdot-line11.mdot-line12.mdot))\n",
    "    print (\"CCS mass balance: \",abs(line12.mdot-line13.mdot-line14.mdot))\n",
    "    print (\"PSA mass balance: \",abs(line14.mdot-line15.mdot-line16.mdot))\n",
    "    print(\"Mass Balance Check Done!\")"
   ]
  },
  {
   "cell_type": "code",
   "execution_count": null,
   "id": "f3493cab-0623-4bde-8f48-81cfa96810dd",
   "metadata": {},
   "outputs": [],
   "source": []
  },
  {
   "cell_type": "code",
   "execution_count": 7,
   "id": "3817c852",
   "metadata": {},
   "outputs": [
    {
     "name": "stdout",
     "output_type": "stream",
     "text": [
      "Total mass flow rate : Updated\n",
      "Total molar flow rate : Updated\n",
      "Species mass flow rate : Updated\n",
      "Species molar flow rate : Updated\n",
      "Mass fractions : Updated\n",
      "Mole fractions : Updated\n",
      "Line is fully updated.\n",
      "Enthalphy calculated in gas phase\n"
     ]
    }
   ],
   "source": [
    "#Desulfurizer\n",
    "# species_list = [\"CO2\",\"CO\",\"O2\",\"H2O\",\"CH4\",\"C2H6\",\"H2S\",\"C2H7NO\",\"H2\"]\n",
    "line1 = line (species_list=species_list, cp_coeff=cp_coeff,phase=\"gas\",T= 288.706)\n",
    "line1.ndot = 1000*scale #kmol/day\n",
    "line1.y = [0.0, 0.0, 0.0, 0.0, 0.96999709, 0.02999991, 2.999991E-6, 0.0, 0.0]\n",
    "line1.update_line()\n",
    "line1.get_Hline()\n",
    "#line1.Hline\n",
    "#print(line1.Hline)\n",
    "#print(line1.T,line1a.T)\n",
    "#line1.T = 288.706\n",
    "#line1a = cp(line1)\n",
    "#line1a.T = 288.706\n",
    "#line1a.get_Hline()\n",
    "#line1a.Hline\n",
    "#line1b = cp(line1)\n",
    "#line1b.T = 616.483\n",
    "#line1b.get_Hline()\n",
    "#line1b.Hline\n",
    "#print(line1a.Hline,line1b.Hline)"
   ]
  },
  {
   "cell_type": "code",
   "execution_count": 8,
   "id": "21a0d565",
   "metadata": {},
   "outputs": [
    {
     "name": "stdout",
     "output_type": "stream",
     "text": [
      "Total mass flow rate : Updated\n",
      "Total molar flow rate : Updated\n",
      "Species mass flow rate : Updated\n",
      "Species molar flow rate : Updated\n",
      "Mass fractions : Updated\n",
      "Mole fractions : Updated\n",
      "Line is fully updated.\n",
      "Enthalphy calculated in gas phase\n",
      "Enthalphy calculated in gas phase\n",
      "Enthalphy calculated in gas phase\n"
     ]
    }
   ],
   "source": [
    "# species_list = [\"CO2\",\"CO\",\"O2\",\"H2O\",\"CH4\",\"C2H6\",\"H2S\",\"C2H7NO\",\"H2\"]\n",
    "stoich = [0, 0, 0, 1, 0, 0, -1, 0, 0]\n",
    "conversion = [6, 1.0] #index (starting from zero) of the reactant for which conversion is defined, followed by conversion\n",
    "line2 = line (species_list=species_list, cp_coeff=cp_coeff, phase=\"gas\",T= 288.706)\n",
    "line2.ndoti = line1.ndoti\n",
    "line2.react(stoich=stoich,conversion=conversion)\n",
    "line2.update_line()\n",
    "line2.get_Hline()\n",
    "line2a = cp(line2)\n",
    "line2b = cp(line2)\n",
    "line2a.get_Hline()\n",
    "line2b.T = 616.483\n",
    "line2b.get_Hline()"
   ]
  },
  {
   "cell_type": "code",
   "execution_count": 9,
   "id": "90dab0ff",
   "metadata": {},
   "outputs": [
    {
     "name": "stdout",
     "output_type": "stream",
     "text": [
      "Total mass flow rate : Updated\n",
      "Total molar flow rate : Updated\n",
      "Species mass flow rate : Updated\n",
      "Species molar flow rate : Updated\n",
      "Mass fractions : Updated\n",
      "Mole fractions : Updated\n",
      "Line is fully updated.\n",
      "Enthalphy calculated in gas phase\n"
     ]
    }
   ],
   "source": [
    "line3 = line (species_list=species_list, cp_coeff=cp_coeff, phase=\"gas\",T= 1235)\n",
    "line3.ndoti =[0,0,0,0.8*line2.ndot,0,0,0,0,0]\n",
    "line3.update_line()\n",
    "line3.get_Hline()"
   ]
  },
  {
   "cell_type": "code",
   "execution_count": 10,
   "id": "8ced7a87",
   "metadata": {},
   "outputs": [
    {
     "name": "stdout",
     "output_type": "stream",
     "text": [
      "Total mass flow rate : Updated\n",
      "Total molar flow rate : Updated\n",
      "Species mass flow rate : Updated\n",
      "Species molar flow rate : Updated\n",
      "Mass fractions : Updated\n",
      "Mole fractions : Updated\n",
      "Line is fully updated.\n",
      "Enthalphy calculated in gas phase\n",
      "Enthalphy calculated in gas phase\n",
      "Enthalphy calculated in gas phase\n",
      "Energy balance check around pre-reformer\n",
      "Heat duty of prereformer:8.89E+05 kJ/day\n"
     ]
    }
   ],
   "source": [
    "line4 = line (species_list=species_list, cp_coeff=cp_coeff, phase=\"gas\",T= 716.483)\n",
    "line4.ndoti = line2.ndoti + line3.ndoti \n",
    "# species_list = [\"CO2\",\"CO\",\"O2\",\"H2O\",\"CH4\",\"C2H6\",\"H2S\",\"C2H7NO\",\"H2\"]\n",
    "stoich = [0, 2, 0, -2, 0, -1, 0, 0, 5] #  C2H6 + 2H2O --> 2CO + 5H2\n",
    "conversion = [5, 1.0]\n",
    "line4.react(stoich=stoich,conversion=conversion)\n",
    "line4.update_line()\n",
    "line4.get_Hline()\n",
    "line4a = cp(line4)\n",
    "line4a.T = 716.483\n",
    "line4a.get_Hline()\n",
    "line4b = cp(line4)\n",
    "line4b.T = 922.0389\n",
    "line4b.get_Hline()\n",
    "line4b.Hline\n",
    "print(\"Energy balance check around pre-reformer\")\n",
    "delta_Hr = 347.3E3 #kJ/kmol\n",
    "Q = line4a.Hline - (line2b.Hline + line3.Hline) + delta_Hr * line2b.ndoti[5] * conversion[1]\n",
    "print(\"Heat duty of prereformer:{:.2E} kJ/day\".format(Q))"
   ]
  },
  {
   "cell_type": "code",
   "execution_count": 11,
   "id": "6a8e3427",
   "metadata": {},
   "outputs": [
    {
     "name": "stdout",
     "output_type": "stream",
     "text": [
      "Steam to HC ratio of line4: 0.7184518446601943\n"
     ]
    }
   ],
   "source": [
    "print(\"Steam to HC ratio of line4: {}\".format(line4.ndoti[3]/(line4.ndot-line4.ndoti[3]-line4.ndoti[8])))"
   ]
  },
  {
   "cell_type": "code",
   "execution_count": 12,
   "id": "2b9d7309",
   "metadata": {},
   "outputs": [
    {
     "name": "stdout",
     "output_type": "stream",
     "text": [
      "0.7173088687227291\n",
      "Total mass flow rate : Updated\n",
      "Total molar flow rate : Updated\n",
      "Species mass flow rate : Updated\n",
      "Species molar flow rate : Updated\n",
      "Mass fractions : Updated\n",
      "Mole fractions : Updated\n",
      "Line is fully updated.\n",
      "Enthalphy calculated in gas phase\n",
      "-10632737.334833363\n",
      "[0, 0, 38430.218061518965, 0, 0, 0, 0, 0, 0]\n"
     ]
    }
   ],
   "source": [
    "delta_H_ox = -802.3E3 #-890000 #enthalpy in KJ/kmol of methane CH4 + 2O2 --> CO2 + 2H2O\n",
    "delta_H_ref = 206.1E3 #251000 #enthalpy in KJ/kmol of methane in CH4 + H2O --> CO + 3H2\n",
    "ch4_ox2ref_ratio = abs(delta_H_ref/delta_H_ox)\n",
    "frac_CH4_ref = (1/(1+ch4_ox2ref_ratio)) - 0.07830795  #fudge factor\n",
    "frac_CH4_ox = 1-frac_CH4_ref\n",
    "print (frac_CH4_ref)\n",
    "line5 = line (species_list=species_list, cp_coeff=cp_coeff, phase=\"gas\",T= 288.706)\n",
    "#conversion_ref = [4,0.98] #methane conversion\n",
    "delta_H_reforming = line4.ndoti[4]*frac_CH4_ref*delta_H_ref  #enthalpy in KJ\n",
    "n_o2_required = 2*delta_H_reforming/abs(delta_H_ox)  # 2 is because for each mole of CH4 combustion, we need 2 moles of O2\n",
    "line5.ndoti = [0,0,n_o2_required,0,0,0,0,0,0]\n",
    "line5.update_line()\n",
    "line5.get_Hline()\n",
    "line5.Hline\n",
    "print(line5.Hline)\n",
    "print(line5.ndoti)"
   ]
  },
  {
   "cell_type": "code",
   "execution_count": 13,
   "id": "1dc0beac",
   "metadata": {},
   "outputs": [
    {
     "name": "stdout",
     "output_type": "stream",
     "text": [
      "Total mass flow rate : Updated\n",
      "Total molar flow rate : Updated\n",
      "Species mass flow rate : Updated\n",
      "Species molar flow rate : Updated\n",
      "Mass fractions : Updated\n",
      "Mole fractions : Updated\n",
      "Line is fully updated.\n",
      "Total mass flow rate : Updated\n",
      "Total molar flow rate : Updated\n",
      "Species mass flow rate : Updated\n",
      "Species molar flow rate : Updated\n",
      "Mass fractions : Updated\n",
      "Mole fractions : Updated\n",
      "Line is fully updated.\n",
      "Enthalphy calculated in gas phase\n",
      "Total mass flow rate : Updated\n",
      "Total molar flow rate : Updated\n",
      "Species mass flow rate : Updated\n",
      "Species molar flow rate : Updated\n",
      "Mass fractions : Updated\n",
      "Mole fractions : Updated\n",
      "Line is fully updated.\n",
      "Enthalphy calculated in gas phase\n",
      "Enthalphy calculated in gas phase\n",
      "Enthalphy calculated in gas phase\n",
      "Energy balance check around ATR\n",
      "Heat duty of ATR:9.65E+04 kJ/day\n"
     ]
    }
   ],
   "source": [
    "#reformer\n",
    "mix = line (species_list=species_list, cp_coeff=cp_coeff, phase=\"gas\",T=1400)\n",
    "mix.ndoti = line4.ndoti + line5.ndoti\n",
    "#partial oxidation\n",
    "# species_list = [\"CO2\",\"CO\",\"O2\",\"H2O\",\"CH4\",\"C2H6\",\"H2S\",\"C2H7NO\",\"H2\"]\n",
    "stoich = [1, 0, -2, 2, -1, 0, 0, 0, 0] # CH4 + 2O2 --> CO2 + 2H2O\n",
    "conversion = [2,1.0]\n",
    "mix_before = cp(mix)\n",
    "mix_before.update_line()\n",
    "mix.react(stoich=stoich,conversion=conversion)\n",
    "mix.update_line()\n",
    "mix.get_Hline()\n",
    "#reforming\n",
    "line6 = line (species_list=species_list, cp_coeff=cp_coeff, phase=\"gas\",T=1366.483)\n",
    "line6.ndoti = mix.ndoti\n",
    "# species_list = [\"CO2\",\"CO\",\"O2\",\"H2O\",\"CH4\",\"C2H6\",\"H2S\",\"C2H7NO\",\"H2\"]\n",
    "stoich = [0, 1, 0, -1, -1, 0, 0, 0, 3]\n",
    "conversion = [4,0.98]\n",
    "line6.react(stoich=stoich,conversion=conversion)\n",
    "line6.update_line()\n",
    "line6.get_Hline()\n",
    "line6a = cp (line6)\n",
    "line6a.get_Hline()\n",
    "line6b = cp (line6)\n",
    "line6b.T = 650\n",
    "line6b.get_Hline()\n",
    "print(\"Energy balance check around ATR\")\n",
    "Q = line6a.Hline - (line5.Hline + line4b.Hline) + delta_H_ox * frac_CH4_ox * line4b.ndoti[4] \\\n",
    "                                                + delta_H_ref * frac_CH4_ref * line4b.ndoti[4] *conversion[1]\n",
    "print(\"Heat duty of ATR:{:.2E} kJ/day\".format(Q))"
   ]
  },
  {
   "cell_type": "code",
   "execution_count": 14,
   "id": "5bd6b098",
   "metadata": {},
   "outputs": [
    {
     "name": "stdout",
     "output_type": "stream",
     "text": [
      "Steam to DG ratio in line-6: 0.09184801422688814\n",
      "Total mass flow rate : Updated\n",
      "Total molar flow rate : Updated\n",
      "Species mass flow rate : Updated\n",
      "Species molar flow rate : Updated\n",
      "Mass fractions : Updated\n",
      "Mole fractions : Updated\n",
      "Line is fully updated.\n",
      "Enthalphy calculated in gas phase\n",
      "Total mass flow rate : Updated\n",
      "Total molar flow rate : Updated\n",
      "Species mass flow rate : Updated\n",
      "Species molar flow rate : Updated\n",
      "Mass fractions : Updated\n",
      "Mole fractions : Updated\n",
      "Line is fully updated.\n",
      "Enthalphy calculated in gas phase\n",
      "Enthalphy calculated in gas phase\n",
      "Enthalphy calculated in gas phase\n",
      "Energy balance check around HT-WGS\n",
      "Heat duty of HT-WGS:-7.41E+06 kJ/day\n"
     ]
    }
   ],
   "source": [
    "#HT Water-gas shift\n",
    "line7 = line (species_list=species_list, cp_coeff=cp_coeff, phase=\"gas\",T=650)\n",
    "dry_gas = line6.ndot-line6.ndoti[3]\n",
    "print(\"Steam to DG ratio in line-6: {}\".format(line6.ndoti[3]/dry_gas))\n",
    "steam_required = 0.5*dry_gas-line6.ndoti[3]\n",
    "line7.ndoti = [0,0,0,steam_required,0,0,0,0,0]\n",
    "line7.update_line()\n",
    "line7.get_Hline()\n",
    "line8 = line (species_list=species_list, cp_coeff=cp_coeff, phase=\"gas\",T=806)\n",
    "line8.ndoti = line6.ndoti+line7.ndoti\n",
    "# species_list = [\"CO2\",\"CO\",\"O2\",\"H2O\",\"CH4\",\"C2H6\",\"H2S\",\"C2H7NO\",\"H2\"]\n",
    "stoich = [1, -1, 0, -1, 0, 0, 0, 0, 1]\n",
    "conversion = [1,0.901]\n",
    "line8.react(stoich=stoich,conversion=conversion)\n",
    "line8.update_line()\n",
    "line8.get_Hline()\n",
    "line8a = cp(line8)\n",
    "line8a.get_Hline()\n",
    "line8b = cp(line8)\n",
    "line8b.T = 470\n",
    "line8b.get_Hline()\n",
    "delta_Hr = -41.1E3 #kJ/kmol\n",
    "print(\"Energy balance check around HT-WGS\")\n",
    "Q = line8a.Hline - (line7.Hline + line6b.Hline) + delta_Hr * conversion[1] * line6b.ndoti[1] \n",
    "print(\"Heat duty of HT-WGS:{:.2E} kJ/day\".format(Q))"
   ]
  },
  {
   "cell_type": "code",
   "execution_count": 15,
   "id": "8b07f0a2",
   "metadata": {},
   "outputs": [
    {
     "name": "stdout",
     "output_type": "stream",
     "text": [
      "Steam to DG ratio in line-8: 0.2348949969132214\n",
      "Total mass flow rate : Updated\n",
      "Total molar flow rate : Updated\n",
      "Species mass flow rate : Updated\n",
      "Species molar flow rate : Updated\n",
      "Mass fractions : Updated\n",
      "Mole fractions : Updated\n",
      "Line is fully updated.\n",
      "Enthalphy calculated in gas phase\n",
      "Total mass flow rate : Updated\n",
      "Total molar flow rate : Updated\n",
      "Species mass flow rate : Updated\n",
      "Species molar flow rate : Updated\n",
      "Mass fractions : Updated\n",
      "Mole fractions : Updated\n",
      "Line is fully updated.\n",
      "Enthalphy calculated in gas phase\n",
      "Enthalphy calculated in gas phase\n",
      "Enthalphy calculated in gas phase\n",
      "Energy balance check around LT-WGS\n",
      "Heat duty of LT-WGS:-1.40E+06 kJ/day\n"
     ]
    }
   ],
   "source": [
    "#LT Water-gas shift\n",
    "line9 = line (species_list=species_list, cp_coeff=cp_coeff, phase=\"gas\",T=470)\n",
    "dry_gas = line8.ndot-line8.ndoti[3]\n",
    "print(\"Steam to DG ratio in line-8: {}\".format(line8.ndoti[3]/dry_gas))\n",
    "steam_required = 0.5*dry_gas-line6.ndoti[3]\n",
    "line9.ndoti = [0,0,0,steam_required,0,0,0,0,0]\n",
    "line9.update_line()\n",
    "line9.get_Hline()\n",
    "line10 = line (species_list=species_list, cp_coeff=cp_coeff, phase=\"gas\",T=483.5)\n",
    "line10.ndoti = line8.ndoti+line9.ndoti\n",
    "# species_list = [\"CO2\",\"CO\",\"O2\",\"H2O\",\"CH4\",\"C2H6\",\"H2S\",\"C2H7NO\",\"H2\"]\n",
    "stoich = [1, -1, 0, -1, 0, 0, 0, 0, 1]\n",
    "conversion = [1,0.975]\n",
    "line10.react(stoich=stoich,conversion=conversion)\n",
    "line10.update_line()\n",
    "line10.get_Hline()\n",
    "line10a = cp(line10)\n",
    "line10a.get_Hline()\n",
    "line10b = cp(line10)\n",
    "line10b.T = 315\n",
    "line10b.get_Hline()\n",
    "delta_Hr = -41.2E3 #kJ/kmol\n",
    "print(\"Energy balance check around LT-WGS\")\n",
    "Q = line10a.Hline - (line9.Hline + line8b.Hline) + delta_Hr * conversion[1] * line8b.ndoti[1] \n",
    "print(\"Heat duty of LT-WGS:{:.2E} kJ/day\".format(Q))"
   ]
  },
  {
   "cell_type": "code",
   "execution_count": 16,
   "id": "b1ea0c8f",
   "metadata": {},
   "outputs": [
    {
     "name": "stdout",
     "output_type": "stream",
     "text": [
      "Total mass flow rate : Updated\n",
      "Total molar flow rate : Updated\n",
      "Species mass flow rate : Updated\n",
      "Species molar flow rate : Updated\n",
      "Mass fractions : Updated\n",
      "Mole fractions : Updated\n",
      "Line is fully updated.\n",
      "Enthalphy calculated in liquid phase\n",
      "Total mass flow rate : Updated\n",
      "Total molar flow rate : Updated\n",
      "Species mass flow rate : Updated\n",
      "Species molar flow rate : Updated\n",
      "Mass fractions : Updated\n",
      "Mole fractions : Updated\n",
      "Line is fully updated.\n",
      "Enthalphy calculated in gas phase\n",
      "Energy balance check around flash drum\n",
      "Heat duty of flash drum:-1.19E+10 kJ/day\n"
     ]
    }
   ],
   "source": [
    "#flash drum\n",
    "line11 = line (species_list=species_list, cp_coeff=cp_coeff, phase=\"liquid\",T=310) #,density=density)\n",
    "line11.mdoti = [0,0,0,line10.mdoti[3],0,0,0,0,0] \n",
    "line11.update_line()\n",
    "line11.get_Hline()\n",
    "line12 = line (species_list=species_list, cp_coeff=cp_coeff, phase=\"gas\",T=line11.T)\n",
    "line12.mdoti = line10.mdoti - line11.mdoti\n",
    "line12.update_line()\n",
    "line12.get_Hline()\n",
    "delta_Hc = -2257 #kJ/kg of water\n",
    "print(\"Energy balance check around flash drum\")\n",
    "Q = line12.Hline + line11.Hline - line10b.Hline + delta_Hc * line11.mdoti[3] \n",
    "print(\"Heat duty of flash drum:{:.2E} kJ/day\".format(Q))"
   ]
  },
  {
   "cell_type": "code",
   "execution_count": 17,
   "id": "cf237c8e",
   "metadata": {},
   "outputs": [
    {
     "name": "stdout",
     "output_type": "stream",
     "text": [
      "Total mass flow rate : Updated\n",
      "Total molar flow rate : Updated\n",
      "Species mass flow rate : Updated\n",
      "Species molar flow rate : Updated\n",
      "Mass fractions : Updated\n",
      "Mole fractions : Updated\n",
      "Line is fully updated.\n",
      "Enthalphy calculated in gas phase\n",
      "Total mass flow rate : Updated\n",
      "Total molar flow rate : Updated\n",
      "Species mass flow rate : Updated\n",
      "Species molar flow rate : Updated\n",
      "Mass fractions : Updated\n",
      "Mole fractions : Updated\n",
      "Line is fully updated.\n",
      "Enthalphy calculated in gas phase\n",
      "Energy balance check around CCS\n",
      "Heat duty of CCS:2.81E+08 kJ/day\n"
     ]
    }
   ],
   "source": [
    "#CCS\n",
    "line13 = line (species_list=species_list, cp_coeff=cp_coeff, phase=\"gas\",T=390)\n",
    "line13.mdoti = [0.7*line12.mdoti[0],0,0,0,0,0,0,0,0] \n",
    "line13.update_line()\n",
    "line13.get_Hline()\n",
    "line14 = line (species_list=species_list, cp_coeff=cp_coeff, phase=\"gas\",T=313)\n",
    "line14.mdoti = line12.mdoti - line13.mdoti\n",
    "line14.update_line()\n",
    "line14.get_Hline()\n",
    "print(\"Energy balance check around CCS\")\n",
    "Q = line14.Hline + line13.Hline - line12.Hline  \n",
    "print(\"Heat duty of CCS:{:.2E} kJ/day\".format(Q))"
   ]
  },
  {
   "cell_type": "code",
   "execution_count": 18,
   "id": "21b45fbc",
   "metadata": {
    "scrolled": true
   },
   "outputs": [
    {
     "name": "stdout",
     "output_type": "stream",
     "text": [
      "Total mass flow rate : Updated\n",
      "Total molar flow rate : Updated\n",
      "Species mass flow rate : Updated\n",
      "Species molar flow rate : Updated\n",
      "Mass fractions : Updated\n",
      "Mole fractions : Updated\n",
      "Line is fully updated.\n",
      "Enthalphy calculated in gas phase\n",
      "Total mass flow rate : Updated\n",
      "Total molar flow rate : Updated\n",
      "Species mass flow rate : Updated\n",
      "Species molar flow rate : Updated\n",
      "Mass fractions : Updated\n",
      "Mole fractions : Updated\n",
      "Line is fully updated.\n",
      "Enthalphy calculated in gas phase\n",
      "Energy balance check around PSA\n",
      "Heat duty of PSA:1.33E+08 kJ/day\n"
     ]
    }
   ],
   "source": [
    "#PSA\n",
    "line15 = line (species_list=species_list, cp_coeff=cp_coeff, phase=\"gas\",T=322)\n",
    "line15.mdoti = [0,0,0,0,0,0,0,0,0.85*line14.mdoti[8]]\n",
    "line15.update_line()\n",
    "line15.get_Hline()\n",
    "line16 = line (species_list=species_list, cp_coeff=cp_coeff, phase=\"gas\",T=line15.T+10)\n",
    "line16.mdoti = line14.mdoti - line15.mdoti\n",
    "line16.update_line()\n",
    "line16.get_Hline()\n",
    "print(\"Energy balance check around PSA\")\n",
    "Q = line15.Hline + line16.Hline - line14.Hline  \n",
    "print(\"Heat duty of PSA:{:.2E} kJ/day\".format(Q))"
   ]
  },
  {
   "cell_type": "code",
   "execution_count": 19,
   "id": "49a20d08",
   "metadata": {
    "scrolled": true
   },
   "outputs": [
    {
     "name": "stdout",
     "output_type": "stream",
     "text": [
      "Overall mass balance:  1.862645149230957e-09\n",
      "Pre-reformer mass balance:  0.0\n",
      "ATR mass balance:  9.313225746154785e-10\n",
      "HT-WGS mass balance:  9.313225746154785e-10\n",
      "LT-WGS mass balance:  1.862645149230957e-09\n",
      "Flash drum mass balance:  9.313225746154785e-10\n",
      "CCS mass balance:  4.656612873077393e-10\n",
      "PSA mass balance:  0.0\n",
      "Mass Balance Check Done!\n"
     ]
    }
   ],
   "source": [
    "#lines = {\"line1\":line1,\"line2\":line2,\"line3\":line3,\"line4\":line4 ,\"line5\":line5,\\\n",
    "#         \"mix\":mix, \"line6\":line6 ,\"line7\":line7 ,\"line8\":line8 ,\"line9\":line9,\\\n",
    "#        \"line10\":line10,\"line11\":line11,\"line12\":line12,\"line13\":line13,\"line14\":line14,\\\n",
    "#        \"line15\":line15,\"line16\":line16}\n",
    "lines = {\"line1\":line1,\"line2a\":line2a,\"line2b\":line2b,\"line3\":line3,\"line4a\":line4a,\"line4b\":line4b,\\\n",
    "           \"line5\":line5,\"mix\":mix,\"line6a\":line6a,\"line6b\":line6b,\"line7\":line7 ,\"line8a\":line8a,\"line8b\":line8b,\\\n",
    "           \"line9\":line9,\"line10a\":line10a,\"line10b\":line10b,\"line11\":line11,\"line12\":line12,\"line13\":line13,\"line14\":line14,\\\n",
    "        \"line15\":line15,\"line16\":line16}\n",
    "mass_balance_check(lines)"
   ]
  },
  {
   "cell_type": "code",
   "execution_count": 20,
   "id": "6d788b74-6d07-41f2-84f3-b771d767950e",
   "metadata": {},
   "outputs": [],
   "source": [
    "\n",
    "#print(date)"
   ]
  },
  {
   "cell_type": "code",
   "execution_count": 21,
   "id": "16ef49fe",
   "metadata": {},
   "outputs": [
    {
     "name": "stdout",
     "output_type": "stream",
     "text": [
      "  Mass flow rate         line1        line2a        line2b         line3  \\\n",
      "0   Total kg/day  1.769873e+06  1.769868e+06  1.769868e+06  1.549373e+06   \n",
      "1            CO2  0.000000e+00  0.000000e+00  0.000000e+00  0.000000e+00   \n",
      "2             CO  0.000000e+00  0.000000e+00  0.000000e+00  0.000000e+00   \n",
      "3             O2  0.000000e+00  0.000000e+00  0.000000e+00  0.000000e+00   \n",
      "4            H2O  0.000000e+00  5.810132e+00  5.810132e+00  1.549373e+06   \n",
      "5            CH4  1.672886e+06  1.672886e+06  1.672886e+06  0.000000e+00   \n",
      "6           C2H6  9.697606e+04  9.697606e+04  9.697606e+04  0.000000e+00   \n",
      "7            H2S  1.099147e+01  0.000000e+00  0.000000e+00  0.000000e+00   \n",
      "8         C2H7NO  0.000000e+00  0.000000e+00  0.000000e+00  0.000000e+00   \n",
      "9             H2  0.000000e+00  0.000000e+00  0.000000e+00  0.000000e+00   \n",
      "\n",
      "         line4a        line4b         line5           mix        line6a  ...  \\\n",
      "0  3.319241e+06  3.319241e+06  1.229721e+06  4.548962e+06  4.548962e+06  ...   \n",
      "1  0.000000e+00  0.000000e+00  0.000000e+00  8.456473e+05  8.456473e+05  ...   \n",
      "2  1.806715e+05  1.806715e+05  0.000000e+00  1.806715e+05  2.515657e+06  ...   \n",
      "3  0.000000e+00  0.000000e+00  1.229721e+06  0.000000e+00  0.000000e+00  ...   \n",
      "4  1.433176e+06  1.433176e+06  0.000000e+00  2.125507e+06  6.237126e+05  ...   \n",
      "5  1.672886e+06  1.672886e+06  0.000000e+00  1.364629e+06  2.729257e+04  ...   \n",
      "6  0.000000e+00  0.000000e+00  0.000000e+00  0.000000e+00  0.000000e+00  ...   \n",
      "7  0.000000e+00  0.000000e+00  0.000000e+00  0.000000e+00  0.000000e+00  ...   \n",
      "8  0.000000e+00  0.000000e+00  0.000000e+00  0.000000e+00  0.000000e+00  ...   \n",
      "9  3.250721e+04  3.250721e+04  0.000000e+00  3.250721e+04  5.366523e+05  ...   \n",
      "\n",
      "         line8b         line9       line10a       line10b        line11  \\\n",
      "0  7.320601e+06  3.500547e+06  1.082115e+07  1.082115e+07  5.281905e+06   \n",
      "1  4.406943e+06  0.000000e+00  4.788468e+06  4.788468e+06  0.000000e+00   \n",
      "2  2.490501e+05  0.000000e+00  6.226252e+03  6.226252e+03  0.000000e+00   \n",
      "3  0.000000e+00  0.000000e+00  0.000000e+00  0.000000e+00  0.000000e+00   \n",
      "4  1.937536e+06  3.500547e+06  5.281905e+06  5.281905e+06  5.281905e+06   \n",
      "5  2.729257e+04  0.000000e+00  2.729257e+04  2.729257e+04  0.000000e+00   \n",
      "6  0.000000e+00  0.000000e+00  0.000000e+00  0.000000e+00  0.000000e+00   \n",
      "7  0.000000e+00  0.000000e+00  0.000000e+00  0.000000e+00  0.000000e+00   \n",
      "8  0.000000e+00  0.000000e+00  0.000000e+00  0.000000e+00  0.000000e+00   \n",
      "9  6.997794e+05  0.000000e+00  7.172554e+05  7.172554e+05  0.000000e+00   \n",
      "\n",
      "         line12        line13        line14         line15        line16  \n",
      "0  5.539243e+06  3.351928e+06  2.187315e+06  609667.107655  1.577648e+06  \n",
      "1  4.788468e+06  3.351928e+06  1.436540e+06       0.000000  1.436540e+06  \n",
      "2  6.226252e+03  0.000000e+00  6.226252e+03       0.000000  6.226252e+03  \n",
      "3  0.000000e+00  0.000000e+00  0.000000e+00       0.000000  0.000000e+00  \n",
      "4  0.000000e+00  0.000000e+00  0.000000e+00       0.000000  0.000000e+00  \n",
      "5  2.729257e+04  0.000000e+00  2.729257e+04       0.000000  2.729257e+04  \n",
      "6  0.000000e+00  0.000000e+00  0.000000e+00       0.000000  0.000000e+00  \n",
      "7  0.000000e+00  0.000000e+00  0.000000e+00       0.000000  0.000000e+00  \n",
      "8  0.000000e+00  0.000000e+00  0.000000e+00       0.000000  0.000000e+00  \n",
      "9  7.172554e+05  0.000000e+00  7.172554e+05  609667.107655  1.075883e+05  \n",
      "\n",
      "[10 rows x 23 columns]\n"
     ]
    }
   ],
   "source": [
    "data = {\"Mass flow rate\": [\"Total kg/day\"]+species_list}\n",
    "for key,val in lines.items():\n",
    "    data.update({key:[getattr(lines[key],\"mdot\")] + list(getattr(lines[key],\"mdoti\"))})\n",
    "print(pd.DataFrame(data))\n",
    "#writer = pd.ExcelWriter('Blue_Hydrogen_MB.xlsx', engine = 'xlsxwriter')\n",
    "date = datetime.today().strftime('%Y-%m-%d')\n",
    "writer = pd.ExcelWriter('Blue_Hydrogen_MEB_'+date+'.xlsx', engine='openpyxl')\n",
    "pd.DataFrame(data).to_excel(writer, sheet_name='mass flow rates')"
   ]
  },
  {
   "cell_type": "code",
   "execution_count": 22,
   "id": "36f0fab5",
   "metadata": {},
   "outputs": [
    {
     "name": "stdout",
     "output_type": "stream",
     "text": [
      "  Molar flow rate          line1         line2a         line2b         line3  \\\n",
      "0  Total kmol/day  107504.098508  107504.098507  107504.098507  86003.278806   \n",
      "1             CO2       0.000000       0.000000       0.000000      0.000000   \n",
      "2              CO       0.000000       0.000000       0.000000      0.000000   \n",
      "3              O2       0.000000       0.000000       0.000000      0.000000   \n",
      "4             H2O       0.000000       0.322511       0.322511  86003.278806   \n",
      "5             CH4  104278.662716  104278.662716  104278.662716      0.000000   \n",
      "6            C2H6    3225.113280    3225.113280    3225.113280      0.000000   \n",
      "7             H2S       0.322511       0.000000       0.000000      0.000000   \n",
      "8          C2H7NO       0.000000       0.000000       0.000000      0.000000   \n",
      "9              H2       0.000000       0.000000       0.000000      0.000000   \n",
      "\n",
      "          line4a         line4b         line5            mix         line6a  \\\n",
      "0  206407.830432  206407.830432  38430.218062  244838.048494  411562.613716   \n",
      "1       0.000000       0.000000      0.000000   19215.109031   19215.109031   \n",
      "2    6450.226560    6450.226560      0.000000    6450.226560   89812.509171   \n",
      "3       0.000000       0.000000  38430.218062       0.000000       0.000000   \n",
      "4   79553.374757   79553.374757      0.000000  117983.592819   34621.310207   \n",
      "5  104278.662716  104278.662716      0.000000   85063.553685    1701.271074   \n",
      "6       0.000000       0.000000      0.000000       0.000000       0.000000   \n",
      "7       0.000000       0.000000      0.000000       0.000000       0.000000   \n",
      "8       0.000000       0.000000      0.000000       0.000000       0.000000   \n",
      "9   16125.566399   16125.566399      0.000000   16125.566399  266212.414233   \n",
      "\n",
      "   ...         line8b          line9        line10a        line10b  \\\n",
      "0  ...  565411.955263  194309.876929  759721.832192  759721.832192   \n",
      "1  ...  100136.179794       0.000000  108805.332242  108805.332242   \n",
      "2  ...    8891.438408       0.000000     222.285960     222.285960   \n",
      "3  ...       0.000000       0.000000       0.000000       0.000000   \n",
      "4  ...  107549.580991  194309.876929  293190.305472  293190.305472   \n",
      "5  ...    1701.271074       0.000000    1701.271074    1701.271074   \n",
      "6  ...       0.000000       0.000000       0.000000       0.000000   \n",
      "7  ...       0.000000       0.000000       0.000000       0.000000   \n",
      "8  ...       0.000000       0.000000       0.000000       0.000000   \n",
      "9  ...  347133.484996       0.000000  355802.637444  355802.637444   \n",
      "\n",
      "          line11         line12        line13         line14         line15  \\\n",
      "0  293190.305472  466531.526720  76163.732569  390367.794150  302432.241827   \n",
      "1       0.000000  108805.332242  76163.732569   32641.599672       0.000000   \n",
      "2       0.000000     222.285960      0.000000     222.285960       0.000000   \n",
      "3       0.000000       0.000000      0.000000       0.000000       0.000000   \n",
      "4  293190.305472       0.000000      0.000000       0.000000       0.000000   \n",
      "5       0.000000    1701.271074      0.000000    1701.271074       0.000000   \n",
      "6       0.000000       0.000000      0.000000       0.000000       0.000000   \n",
      "7       0.000000       0.000000      0.000000       0.000000       0.000000   \n",
      "8       0.000000       0.000000      0.000000       0.000000       0.000000   \n",
      "9       0.000000  355802.637444      0.000000  355802.637444  302432.241827   \n",
      "\n",
      "         line16  \n",
      "0  87935.552323  \n",
      "1  32641.599672  \n",
      "2    222.285960  \n",
      "3      0.000000  \n",
      "4      0.000000  \n",
      "5   1701.271074  \n",
      "6      0.000000  \n",
      "7      0.000000  \n",
      "8      0.000000  \n",
      "9  53370.395617  \n",
      "\n",
      "[10 rows x 23 columns]\n"
     ]
    }
   ],
   "source": [
    "data = {\"Molar flow rate\": [\"Total kmol/day\"]+species_list}\n",
    "for key,val in lines.items():\n",
    "    data.update({key:[getattr(lines[key],\"ndot\")] + list(getattr(lines[key],\"ndoti\"))})\n",
    "print(pd.DataFrame(data))\n",
    "pd.DataFrame(data).to_excel(writer, sheet_name='molar flow rates')"
   ]
  },
  {
   "cell_type": "code",
   "execution_count": 23,
   "id": "496bc495",
   "metadata": {},
   "outputs": [
    {
     "name": "stdout",
     "output_type": "stream",
     "text": [
      "  Mass fraction         line1        line2a        line2b         line3  \\\n",
      "0  Total kg/day  1.769873e+06  1.769868e+06  1.769868e+06  1.549373e+06   \n",
      "1           CO2  0.000000e+00  0.000000e+00  0.000000e+00  0.000000e+00   \n",
      "2            CO  0.000000e+00  0.000000e+00  0.000000e+00  0.000000e+00   \n",
      "3            O2  0.000000e+00  0.000000e+00  0.000000e+00  0.000000e+00   \n",
      "4           H2O  0.000000e+00  3.282805e-06  3.282805e-06  1.000000e+00   \n",
      "5           CH4  9.452011e-01  9.452039e-01  9.452039e-01  0.000000e+00   \n",
      "6          C2H6  5.479266e-02  5.479282e-02  5.479282e-02  0.000000e+00   \n",
      "7           H2S  6.210314e-06  0.000000e+00  0.000000e+00  0.000000e+00   \n",
      "8        C2H7NO  0.000000e+00  0.000000e+00  0.000000e+00  0.000000e+00   \n",
      "9            H2  0.000000e+00  0.000000e+00  0.000000e+00  0.000000e+00   \n",
      "\n",
      "         line4a        line4b         line5           mix        line6a  ...  \\\n",
      "0  3.319241e+06  3.319241e+06  1.229721e+06  4.548962e+06  4.548962e+06  ...   \n",
      "1  0.000000e+00  0.000000e+00  0.000000e+00  1.858990e-01  1.858990e-01  ...   \n",
      "2  5.443156e-02  5.443156e-02  0.000000e+00  3.971708e-02  5.530179e-01  ...   \n",
      "3  0.000000e+00  0.000000e+00  1.000000e+00  0.000000e+00  0.000000e+00  ...   \n",
      "4  4.317783e-01  4.317783e-01  0.000000e+00  4.672511e-01  1.371110e-01  ...   \n",
      "5  5.039966e-01  5.039966e-01  0.000000e+00  2.999868e-01  5.999736e-03  ...   \n",
      "6  0.000000e+00  0.000000e+00  0.000000e+00  0.000000e+00  0.000000e+00  ...   \n",
      "7  0.000000e+00  0.000000e+00  0.000000e+00  0.000000e+00  0.000000e+00  ...   \n",
      "8  0.000000e+00  0.000000e+00  0.000000e+00  0.000000e+00  0.000000e+00  ...   \n",
      "9  9.793565e-03  9.793565e-03  0.000000e+00  7.146071e-03  1.179725e-01  ...   \n",
      "\n",
      "         line8b         line9       line10a       line10b        line11  \\\n",
      "0  7.320601e+06  3.500547e+06  1.082115e+07  1.082115e+07  5.281905e+06   \n",
      "1  6.019920e-01  0.000000e+00  4.425102e-01  4.425102e-01  0.000000e+00   \n",
      "2  3.402044e-02  0.000000e+00  5.753781e-04  5.753781e-04  0.000000e+00   \n",
      "3  0.000000e+00  0.000000e+00  0.000000e+00  0.000000e+00  0.000000e+00   \n",
      "4  2.646690e-01  1.000000e+00  4.881095e-01  4.881095e-01  1.000000e+00   \n",
      "5  3.728187e-03  0.000000e+00  2.522151e-03  2.522151e-03  0.000000e+00   \n",
      "6  0.000000e+00  0.000000e+00  0.000000e+00  0.000000e+00  0.000000e+00   \n",
      "7  0.000000e+00  0.000000e+00  0.000000e+00  0.000000e+00  0.000000e+00   \n",
      "8  0.000000e+00  0.000000e+00  0.000000e+00  0.000000e+00  0.000000e+00   \n",
      "9  9.559044e-02  0.000000e+00  6.628275e-02  6.628275e-02  0.000000e+00   \n",
      "\n",
      "         line12        line13        line14         line15        line16  \n",
      "0  5.539243e+06  3.351928e+06  2.187315e+06  609667.107655  1.577648e+06  \n",
      "1  8.644627e-01  1.000000e+00  6.567598e-01       0.000000  9.105585e-01  \n",
      "2  1.124026e-03  0.000000e+00  2.846528e-03       0.000000  3.946542e-03  \n",
      "3  0.000000e+00  0.000000e+00  0.000000e+00       0.000000  0.000000e+00  \n",
      "4  0.000000e+00  0.000000e+00  0.000000e+00       0.000000  0.000000e+00  \n",
      "5  4.927131e-03  0.000000e+00  1.247766e-02       0.000000  1.729954e-02  \n",
      "6  0.000000e+00  0.000000e+00  0.000000e+00       0.000000  0.000000e+00  \n",
      "7  0.000000e+00  0.000000e+00  0.000000e+00       0.000000  0.000000e+00  \n",
      "8  0.000000e+00  0.000000e+00  0.000000e+00       0.000000  0.000000e+00  \n",
      "9  1.294862e-01  0.000000e+00  3.279160e-01       1.000000  6.819540e-02  \n",
      "\n",
      "[10 rows x 23 columns]\n"
     ]
    }
   ],
   "source": [
    "data = {\"Mass fraction\": [\"Total kg/day\"]+species_list}\n",
    "for key,val in lines.items():\n",
    "    data.update({key:[getattr(lines[key],\"mdot\")] + list(getattr(lines[key],\"x\"))})\n",
    "print(pd.DataFrame(data))\n",
    "pd.DataFrame(data).to_excel(writer, sheet_name='mass fractions')"
   ]
  },
  {
   "cell_type": "code",
   "execution_count": 24,
   "id": "fe5b92ef",
   "metadata": {},
   "outputs": [
    {
     "name": "stdout",
     "output_type": "stream",
     "text": [
      "    Mole fraction          line1         line2a         line2b         line3  \\\n",
      "0  Total kmol/day  107504.098508  107504.098507  107504.098507  86003.278806   \n",
      "1             CO2       0.000000       0.000000       0.000000      0.000000   \n",
      "2              CO       0.000000       0.000000       0.000000      0.000000   \n",
      "3              O2       0.000000       0.000000       0.000000      0.000000   \n",
      "4             H2O       0.000000       0.000003       0.000003      1.000000   \n",
      "5             CH4       0.969997       0.969997       0.969997      0.000000   \n",
      "6            C2H6       0.030000       0.030000       0.030000      0.000000   \n",
      "7             H2S       0.000003       0.000000       0.000000      0.000000   \n",
      "8          C2H7NO       0.000000       0.000000       0.000000      0.000000   \n",
      "9              H2       0.000000       0.000000       0.000000      0.000000   \n",
      "\n",
      "          line4a         line4b         line5            mix         line6a  \\\n",
      "0  206407.830432  206407.830432  38430.218062  244838.048494  411562.613716   \n",
      "1       0.000000       0.000000      0.000000       0.078481       0.046688   \n",
      "2       0.031250       0.031250      0.000000       0.026345       0.218223   \n",
      "3       0.000000       0.000000      1.000000       0.000000       0.000000   \n",
      "4       0.385418       0.385418      0.000000       0.481884       0.084122   \n",
      "5       0.505207       0.505207      0.000000       0.347428       0.004134   \n",
      "6       0.000000       0.000000      0.000000       0.000000       0.000000   \n",
      "7       0.000000       0.000000      0.000000       0.000000       0.000000   \n",
      "8       0.000000       0.000000      0.000000       0.000000       0.000000   \n",
      "9       0.078125       0.078125      0.000000       0.065862       0.646833   \n",
      "\n",
      "   ...         line8b          line9        line10a        line10b  \\\n",
      "0  ...  565411.955263  194309.876929  759721.832192  759721.832192   \n",
      "1  ...       0.177103       0.000000       0.143217       0.143217   \n",
      "2  ...       0.015726       0.000000       0.000293       0.000293   \n",
      "3  ...       0.000000       0.000000       0.000000       0.000000   \n",
      "4  ...       0.190215       1.000000       0.385918       0.385918   \n",
      "5  ...       0.003009       0.000000       0.002239       0.002239   \n",
      "6  ...       0.000000       0.000000       0.000000       0.000000   \n",
      "7  ...       0.000000       0.000000       0.000000       0.000000   \n",
      "8  ...       0.000000       0.000000       0.000000       0.000000   \n",
      "9  ...       0.613948       0.000000       0.468333       0.468333   \n",
      "\n",
      "          line11         line12        line13         line14         line15  \\\n",
      "0  293190.305472  466531.526720  76163.732569  390367.794150  302432.241827   \n",
      "1       0.000000       0.233222      1.000000       0.083618       0.000000   \n",
      "2       0.000000       0.000476      0.000000       0.000569       0.000000   \n",
      "3       0.000000       0.000000      0.000000       0.000000       0.000000   \n",
      "4       1.000000       0.000000      0.000000       0.000000       0.000000   \n",
      "5       0.000000       0.003647      0.000000       0.004358       0.000000   \n",
      "6       0.000000       0.000000      0.000000       0.000000       0.000000   \n",
      "7       0.000000       0.000000      0.000000       0.000000       0.000000   \n",
      "8       0.000000       0.000000      0.000000       0.000000       0.000000   \n",
      "9       0.000000       0.762655      0.000000       0.911455       1.000000   \n",
      "\n",
      "         line16  \n",
      "0  87935.552323  \n",
      "1      0.371199  \n",
      "2      0.002528  \n",
      "3      0.000000  \n",
      "4      0.000000  \n",
      "5      0.019347  \n",
      "6      0.000000  \n",
      "7      0.000000  \n",
      "8      0.000000  \n",
      "9      0.606926  \n",
      "\n",
      "[10 rows x 23 columns]\n"
     ]
    }
   ],
   "source": [
    "data = {\"Mole fraction\": [\"Total kmol/day\"]+species_list}\n",
    "for key,val in lines.items():\n",
    "    data.update({key:[getattr(lines[key],\"ndot\")] + list(getattr(lines[key],\"y\"))})\n",
    "print(pd.DataFrame(data))\n",
    "pd.DataFrame(data).to_excel(writer, sheet_name='mole fractions')"
   ]
  },
  {
   "cell_type": "code",
   "execution_count": 25,
   "id": "165552f0-9e00-49a3-91c6-d49fdabb29c3",
   "metadata": {},
   "outputs": [],
   "source": [
    "lines_E = {\"line1\":line1,\"line2a\":line2a,\"line2b\":line2b,\"line3\":line3,\"line4a\":line4a,\"line4b\":line4b,\\\n",
    "           \"line5\":line5,\"mix\":mix,\"line6a\":line6a,\"line6b\":line6b,\"line7\":line7 ,\"line8a\":line8a,\"line8b\":line8b,\\\n",
    "           \"line9\":line9,\"line10a\":line10a,\"line10b\":line10b,\"line11\":line11,\"line12\":line12,\"line13\":line13,\"line14\":line14,\\\n",
    "        \"line15\":line15,\"line16\":line16}"
   ]
  },
  {
   "cell_type": "code",
   "execution_count": 26,
   "id": "5b6f76a9-ead9-4f54-9931-d35234b87680",
   "metadata": {},
   "outputs": [
    {
     "name": "stdout",
     "output_type": "stream",
     "text": [
      "        Enthalpies         line1        line2a        line2b         line3  \\\n",
      "0    Temperature K  2.887060e+02  2.887060e+02  6.164830e+02  1.235000e+03   \n",
      "1  Enthalpy kJ/day -3.582061e+07 -3.582061e+07  1.560294e+09  3.091077e+09   \n",
      "2     Total kg/day  1.769873e+06  1.769868e+06  1.769868e+06  1.549373e+06   \n",
      "\n",
      "         line4a        line4b         line5           mix        line6a  ...  \\\n",
      "0  7.164830e+02  9.220389e+02  2.887060e+02  1.400000e+03  1.366483e+03  ...   \n",
      "1  3.532179e+09  5.678502e+09 -1.063274e+07  1.289155e+10  1.421073e+10  ...   \n",
      "2  3.319241e+06  3.319241e+06  1.229721e+06  4.548962e+06  4.548962e+06  ...   \n",
      "\n",
      "         line8b         line9       line10a       line10b        line11  \\\n",
      "0  4.700000e+02  4.700000e+02  4.835000e+02  3.150000e+02  3.100000e+02   \n",
      "1  3.130408e+09  1.141932e+09  4.628109e+09  4.092882e+08  2.626575e+08   \n",
      "2  7.320601e+06  3.500547e+06  1.082115e+07  1.082115e+07  5.281905e+06   \n",
      "\n",
      "         line12        line13        line14        line15        line16  \n",
      "0  3.100000e+02  3.900000e+02  3.130000e+02  3.220000e+02  3.320000e+02  \n",
      "1  1.708121e+08  2.804288e+08  1.715718e+08  2.078708e+08  9.677522e+07  \n",
      "2  5.539243e+06  3.351928e+06  2.187315e+06  6.096671e+05  1.577648e+06  \n",
      "\n",
      "[3 rows x 23 columns]\n"
     ]
    }
   ],
   "source": [
    "data = {\"Enthalpies\": [\"Temperature K\", \"Enthalpy kJ/day\",\"Total kg/day\"]}\n",
    "for key,val in lines_E.items():\n",
    "    data.update({key:[getattr(lines_E[key],\"T\"), getattr(lines_E[key],\"Hline\"),getattr(lines_E[key],\"mdot\")]})\n",
    "print(pd.DataFrame(data))\n",
    "pd.DataFrame(data).to_excel(writer, sheet_name='energy balance')"
   ]
  },
  {
   "cell_type": "code",
   "execution_count": null,
   "id": "3c630f69",
   "metadata": {},
   "outputs": [],
   "source": []
  },
  {
   "cell_type": "code",
   "execution_count": 27,
   "id": "9079035e-aaf7-4c15-806c-9b592cfe5085",
   "metadata": {},
   "outputs": [],
   "source": [
    "pd.DataFrame(cp_coeff).to_excel(writer, sheet_name='cp_coeff')"
   ]
  },
  {
   "cell_type": "code",
   "execution_count": 28,
   "id": "795b8516-983f-48e2-9285-48a1a826013a",
   "metadata": {},
   "outputs": [],
   "source": [
    "writer.close()"
   ]
  },
  {
   "cell_type": "code",
   "execution_count": 29,
   "id": "1e00d094-aab3-4504-b71b-9c2d94d29423",
   "metadata": {},
   "outputs": [
    {
     "name": "stdout",
     "output_type": "stream",
     "text": [
      "Enthalphy calculated in gas phase\n"
     ]
    }
   ],
   "source": [
    "mix.get_Hline()"
   ]
  },
  {
   "cell_type": "code",
   "execution_count": 30,
   "id": "0ecfd801-a61e-4c4e-b054-a60abbe914ab",
   "metadata": {},
   "outputs": [],
   "source": [
    "Q_pox = mix.Hline - (line4b.Hline+line5.Hline) + delta_H_ox * frac_CH4_ox * line4b.ndoti[4]"
   ]
  },
  {
   "cell_type": "code",
   "execution_count": 31,
   "id": "87a6b6a5-1223-4ae7-9dd4-213f0a425135",
   "metadata": {},
   "outputs": [],
   "source": [
    "Q_ref = line6a.Hline - mix.Hline + delta_H_ref * frac_CH4_ref * line4b.ndoti[4] * 0.98"
   ]
  },
  {
   "cell_type": "code",
   "execution_count": 32,
   "id": "04ebe322-5f84-4ca4-b20b-bd52c2793279",
   "metadata": {},
   "outputs": [
    {
     "name": "stdout",
     "output_type": "stream",
     "text": [
      "-16427038745.313114 16427135216.807299 -0.0005872691306868281\n"
     ]
    }
   ],
   "source": [
    "print(Q_pox,Q_ref, (abs(Q_pox) - abs(Q_ref))*100/Q_ref )"
   ]
  },
  {
   "cell_type": "code",
   "execution_count": 33,
   "id": "a85b770d-00a7-45aa-bfb1-3efa16d8e9aa",
   "metadata": {},
   "outputs": [
    {
     "data": {
      "text/plain": [
       "array([  0.        ,  17.1241655 , 102.02516273, 211.19958238,\n",
       "       276.84067563,   0.        ,   0.        ,   0.        ,\n",
       "        42.81041376])"
      ]
     },
     "execution_count": 33,
     "metadata": {},
     "output_type": "execute_result"
    }
   ],
   "source": [
    "mix_before.y*650"
   ]
  },
  {
   "cell_type": "code",
   "execution_count": 34,
   "id": "75a2280c-ba57-4133-9a01-ea4dfb3d5706",
   "metadata": {},
   "outputs": [
    {
     "name": "stdout",
     "output_type": "stream",
     "text": [
      "Mass balance check around the unit: success\n",
      "Line is fully updated.\n",
      "Total mass flow rate : Updated\n",
      "Total molar flow rate : Updated\n",
      "Species mass flow rate : Updated\n",
      "Species molar flow rate : Updated\n",
      "Mass fractions : Updated\n",
      "Mole fractions : Updated\n",
      "Line is fully updated.\n",
      "Enthalphy calculated in gas phase\n"
     ]
    }
   ],
   "source": [
    "pre_reformer = unit (inlets = [line2, line3], outlets = [line4])\n",
    "pre_reformer.mass_balance_check()\n",
    "pre_reformer.update_outlines()"
   ]
  },
  {
   "cell_type": "code",
   "execution_count": null,
   "id": "fc539665-d0cb-42af-97fe-8974425318d2",
   "metadata": {},
   "outputs": [],
   "source": []
  }
 ],
 "metadata": {
  "kernelspec": {
   "display_name": "Python [conda env:base] *",
   "language": "python",
   "name": "conda-base-py"
  },
  "language_info": {
   "codemirror_mode": {
    "name": "ipython",
    "version": 3
   },
   "file_extension": ".py",
   "mimetype": "text/x-python",
   "name": "python",
   "nbconvert_exporter": "python",
   "pygments_lexer": "ipython3",
   "version": "3.11.4"
  }
 },
 "nbformat": 4,
 "nbformat_minor": 5
}
